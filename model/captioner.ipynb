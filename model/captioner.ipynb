{
 "cells": [
  {
   "cell_type": "code",
   "execution_count": 1,
   "metadata": {},
   "outputs": [
    {
     "name": "stderr",
     "output_type": "stream",
     "text": [
      "/home/esun/Image_Captioner/.venv/lib/python3.12/site-packages/tqdm/auto.py:21: TqdmWarning: IProgress not found. Please update jupyter and ipywidgets. See https://ipywidgets.readthedocs.io/en/stable/user_install.html\n",
      "  from .autonotebook import tqdm as notebook_tqdm\n"
     ]
    }
   ],
   "source": [
    "from Decoder_RNN import DecoderRNN\n",
    "from Encoder_CNN import EncoderCNN\n",
    "import torch.nn as nn\n",
    "import torch\n",
    "import torch.optim as optim\n",
    "import kagglehub\n",
    "from torch.utils.data import DataLoader, Dataset\n",
    "import pandas as pd\n",
    "from PIL import Image\n",
    "import os\n",
    "import spacy\n",
    "import torchvision.transforms.v2 as transforms\n",
    "from torch.nn.utils.rnn import pad_sequence\n",
    "from tqdm import tqdm"
   ]
  },
  {
   "cell_type": "code",
   "execution_count": 2,
   "metadata": {},
   "outputs": [],
   "source": [
    "# Download latest version\n",
    "#path = kagglehub.dataset_download(\"adityajn105/flickr8k\")\n",
    "\n",
    "#print(\"Path to dataset files:\", path)\n",
    "#/home/esun/.cache/kagglehub/datasets/adityajn105/flickr8k/versions/1"
   ]
  },
  {
   "cell_type": "code",
   "execution_count": 3,
   "metadata": {},
   "outputs": [],
   "source": [
    "class CNNtoRNN(nn.Module):\n",
    "    def __init__(self, embed_size, hidden_size, vocab_size, num_layers):\n",
    "        super(CNNtoRNN, self).__init__()\n",
    "        self.encoderCNN = EncoderCNN(embed_size)\n",
    "        self.decoderRNN = DecoderRNN(embed_size, hidden_size, vocab_size, num_layers)\n",
    "\n",
    "    def forward(self, images, captions):\n",
    "        features = self.encoderCNN(images)\n",
    "        outputs = self.decoderRNN(features, captions)\n",
    "        return outputs\n",
    "\n",
    "    def caption_image(self, image, vocabulary, max_length=50):\n",
    "        result_caption = []\n",
    "\n",
    "        with torch.no_grad():\n",
    "            x = self.encoderCNN(image).unsqueeze(0)\n",
    "            states = None\n",
    "\n",
    "            for _ in range(max_length):\n",
    "                hiddens, states = self.decoderRNN.lstm(x, states)\n",
    "                output = self.decoderRNN.linear(hiddens.squeeze(0))\n",
    "                predicted = output.argmax(1)\n",
    "                result_caption.append(predicted.item())\n",
    "                x = self.decoderRNN.embed(predicted).unsqueeze(0)\n",
    "\n",
    "                if vocabulary.itos[predicted.item()] == \"<EOS>\":\n",
    "                    break\n",
    "\n",
    "        return [vocabulary.itos[idx] for idx in result_caption]"
   ]
  },
  {
   "cell_type": "code",
   "execution_count": 4,
   "metadata": {},
   "outputs": [],
   "source": [
    "class Vocabulary:\n",
    "    def __init__(self, freq_threshold):\n",
    "        self.itos = {0: \"<PAD>\", 1: \"<SOS>\", 2: \"<EOS>\", 3: \"<UNK>\"}\n",
    "        self.stoi = {\"<PAD>\": 0, \"<SOS>\": 1, \"<EOS>\": 2, \"<UNK>\": 3}\n",
    "        self.freq_threshold = freq_threshold\n",
    "\n",
    "    def __len__(self):\n",
    "        return len(self.itos)\n",
    "\n",
    "    @staticmethod\n",
    "    def tokenizer_eng(text):\n",
    "        return [tok.text.lower() for tok in spacy_eng.tokenizer(text)]\n",
    "\n",
    "    def build_vocabulary(self, sentence_list):\n",
    "        frequencies = {}\n",
    "        idx = 4\n",
    "\n",
    "        for sentence in sentence_list:\n",
    "            for word in self.tokenizer_eng(sentence):\n",
    "                if word not in frequencies:\n",
    "                    frequencies[word] = 1\n",
    "\n",
    "                else:\n",
    "                    frequencies[word] += 1\n",
    "\n",
    "                if frequencies[word] == self.freq_threshold:\n",
    "                    self.stoi[word] = idx\n",
    "                    self.itos[idx] = word\n",
    "                    idx += 1\n",
    "\n",
    "    def numericalize(self, text):\n",
    "        tokenized_text = self.tokenizer_eng(text)\n",
    "\n",
    "        return [\n",
    "            self.stoi[token] if token in self.stoi else self.stoi[\"<UNK>\"]\n",
    "            for token in tokenized_text\n",
    "        ]"
   ]
  },
  {
   "cell_type": "code",
   "execution_count": 5,
   "metadata": {},
   "outputs": [],
   "source": [
    "class FlickrDataset(Dataset):\n",
    "    def __init__(self, root_dir, captions_file, transform=None, freq_threshold=5):\n",
    "        self.root_dir = root_dir\n",
    "        self.df = pd.read_csv(captions_file)\n",
    "        self.transform = transform\n",
    "\n",
    "        # Get img, caption columns\n",
    "        self.imgs = self.df[\"image\"]\n",
    "        self.captions = self.df[\"caption\"]\n",
    "\n",
    "        # Initialize vocabulary and build vocab\n",
    "        self.vocab = Vocabulary(freq_threshold)\n",
    "        self.vocab.build_vocabulary(self.captions.tolist())\n",
    "\n",
    "    def __len__(self):\n",
    "        return len(self.df)\n",
    "\n",
    "    def __getitem__(self, index):\n",
    "        caption = self.captions[index]\n",
    "        img_id = self.imgs[index]\n",
    "        img = Image.open(os.path.join(self.root_dir, img_id)).convert(\"RGB\")\n",
    "\n",
    "        if self.transform is not None:\n",
    "            img = self.transform(img)\n",
    "\n",
    "        numericalized_caption = [self.vocab.stoi[\"<SOS>\"]]\n",
    "        numericalized_caption += self.vocab.numericalize(caption)\n",
    "        numericalized_caption.append(self.vocab.stoi[\"<EOS>\"])\n",
    "\n",
    "        return img, torch.tensor(numericalized_caption)"
   ]
  },
  {
   "cell_type": "code",
   "execution_count": 6,
   "metadata": {},
   "outputs": [],
   "source": [
    "spacy_eng = spacy.load(\"en_core_web_sm\")"
   ]
  },
  {
   "cell_type": "code",
   "execution_count": 7,
   "metadata": {},
   "outputs": [],
   "source": [
    "class MyCollate:\n",
    "    def __init__(self, pad_idx):\n",
    "        self.pad_idx = pad_idx\n",
    "\n",
    "    def __call__(self, batch):\n",
    "        imgs = [item[0].unsqueeze(0) for item in batch]\n",
    "        imgs = torch.cat(imgs, dim=0)\n",
    "        targets = [item[1] for item in batch]\n",
    "        targets = pad_sequence(targets, batch_first=False, padding_value=self.pad_idx)\n",
    "\n",
    "        return imgs, targets"
   ]
  },
  {
   "cell_type": "code",
   "execution_count": 8,
   "metadata": {},
   "outputs": [
    {
     "name": "stderr",
     "output_type": "stream",
     "text": [
      "/home/esun/Image_Captioner/.venv/lib/python3.12/site-packages/torchvision/transforms/v2/_deprecated.py:42: UserWarning: The transform `ToTensor()` is deprecated and will be removed in a future release. Instead, please use `v2.Compose([v2.ToImage(), v2.ToDtype(torch.float32, scale=True)])`.Output is equivalent up to float precision.\n",
      "  warnings.warn(\n"
     ]
    }
   ],
   "source": [
    "root=\"Flickr8k/Images/\"\n",
    "captions=\"Flickr8k/captions.txt\"\n",
    "transform = transforms.Compose(\n",
    "        [\n",
    "            transforms.Resize((224, 224)),\n",
    "            transforms.RandomResizedCrop((224, 224)),\n",
    "            transforms.RandomHorizontalFlip(p=0.5),\n",
    "            transforms.ToTensor(),\n",
    "            transforms.Normalize((0.5, 0.5, 0.5), (0.5, 0.5, 0.5)),\n",
    "        ]\n",
    "    )\n",
    "dataset=FlickrDataset(root,captions,transform)\n",
    "pad_idx=dataset.vocab.stoi[\"<PAD>\"]\n",
    "loader=DataLoader(dataset,batch_size=32,num_workers=2,shuffle=True,pin_memory=True,collate_fn=MyCollate(pad_idx))"
   ]
  },
  {
   "cell_type": "code",
   "execution_count": 9,
   "metadata": {},
   "outputs": [
    {
     "name": "stdout",
     "output_type": "stream",
     "text": [
      "tensor([[[[ 0.2314,  0.0118, -0.4667,  ..., -0.0667,  0.1922,  0.6392],\n",
      "          [ 0.3412,  0.0902, -0.4196,  ...,  0.4275,  0.6314,  0.7176],\n",
      "          [ 0.1137,  0.1294, -0.2000,  ...,  0.3961,  0.6627,  0.6078],\n",
      "          ...,\n",
      "          [ 0.4980,  0.5137,  0.5529,  ..., -0.8275, -0.8039, -0.8039],\n",
      "          [ 0.3882,  0.3647,  0.3882,  ..., -0.8745, -0.7882, -0.8039],\n",
      "          [ 0.2078,  0.1608,  0.1686,  ..., -0.7333, -0.6706, -0.6784]],\n",
      "\n",
      "         [[ 0.0902, -0.0431, -0.4588,  ...,  0.2471,  0.4353,  0.7804],\n",
      "          [ 0.2078,  0.0431, -0.4196,  ...,  0.5922,  0.7647,  0.8353],\n",
      "          [ 0.0118,  0.0902, -0.2078,  ...,  0.5922,  0.8039,  0.7725],\n",
      "          ...,\n",
      "          [ 0.5137,  0.5216,  0.5451,  ..., -0.8510, -0.8196, -0.8039],\n",
      "          [ 0.4353,  0.4039,  0.4118,  ..., -0.8824, -0.8039, -0.8118],\n",
      "          [ 0.2784,  0.2157,  0.2235,  ..., -0.7647, -0.7098, -0.6941]],\n",
      "\n",
      "         [[-0.0275, -0.0902, -0.5608,  ..., -0.4745, -0.2863, -0.0039],\n",
      "          [ 0.1216, -0.0039, -0.5137,  ..., -0.0902,  0.0275,  0.0745],\n",
      "          [-0.0588,  0.0039, -0.3961,  ..., -0.0824,  0.0431,  0.0196],\n",
      "          ...,\n",
      "          [ 0.4980,  0.5294,  0.6078,  ..., -0.8667, -0.8431, -0.8353],\n",
      "          [ 0.3176,  0.2941,  0.3725,  ..., -0.9059, -0.8353, -0.8510],\n",
      "          [ 0.0745,  0.0039,  0.0431,  ..., -0.8275, -0.7647, -0.7490]]],\n",
      "\n",
      "\n",
      "        [[[-0.0824,  0.0196, -0.1216,  ...,  0.0667, -0.1137, -0.3647],\n",
      "          [-0.0431, -0.0353, -0.0588,  ..., -0.0745, -0.2078, -0.2157],\n",
      "          [-0.0353, -0.2235, -0.1294,  ..., -0.0824, -0.2627, -0.1765],\n",
      "          ...,\n",
      "          [-0.5216, -0.3882, -0.2314,  ...,  0.4275,  0.4118,  0.4039],\n",
      "          [-0.5216, -0.3882, -0.2392,  ...,  0.4196,  0.4039,  0.3961],\n",
      "          [-0.5059, -0.3961, -0.2549,  ...,  0.4196,  0.4039,  0.3882]],\n",
      "\n",
      "         [[-0.2235, -0.1451, -0.2863,  ..., -0.0588, -0.2627, -0.5137],\n",
      "          [-0.1843, -0.1765, -0.2078,  ..., -0.1922, -0.3647, -0.3490],\n",
      "          [-0.1686, -0.3098, -0.2706,  ..., -0.2078, -0.4118, -0.3333],\n",
      "          ...,\n",
      "          [-0.5451, -0.4196, -0.2863,  ...,  0.3020,  0.2941,  0.2863],\n",
      "          [-0.5529, -0.4275, -0.2863,  ...,  0.2941,  0.2941,  0.2784],\n",
      "          [-0.5608, -0.4196, -0.2863,  ...,  0.3020,  0.2863,  0.2784]],\n",
      "\n",
      "         [[-0.4118, -0.3412, -0.4275,  ..., -0.1922, -0.3725, -0.5922],\n",
      "          [-0.3569, -0.3725, -0.4039,  ..., -0.3176, -0.4667, -0.4980],\n",
      "          [-0.3490, -0.4902, -0.4510,  ..., -0.3176, -0.5137, -0.4824],\n",
      "          ...,\n",
      "          [-0.4902, -0.4275, -0.3569,  ...,  0.0745,  0.0745,  0.0667],\n",
      "          [-0.4980, -0.4275, -0.3569,  ...,  0.0745,  0.0745,  0.0588],\n",
      "          [-0.5059, -0.4353, -0.3569,  ...,  0.0745,  0.0588,  0.0510]]],\n",
      "\n",
      "\n",
      "        [[[-0.4902, -0.4980, -0.5059,  ..., -0.1686,  0.3255,  0.4824],\n",
      "          [-0.5216, -0.5059, -0.4980,  ..., -0.3490, -0.0510,  0.3255],\n",
      "          [-0.5373, -0.5059, -0.5059,  ..., -0.4588, -0.2863, -0.0431],\n",
      "          ...,\n",
      "          [ 0.3961,  0.3961,  0.4039,  ...,  0.3490,  0.3412,  0.3412],\n",
      "          [ 0.3882,  0.4039,  0.4196,  ...,  0.3333,  0.3333,  0.3333],\n",
      "          [ 0.3961,  0.4118,  0.4353,  ...,  0.3255,  0.3176,  0.3098]],\n",
      "\n",
      "         [[-0.5294, -0.5451, -0.5608,  ..., -0.1137,  0.4039,  0.5608],\n",
      "          [-0.5765, -0.5608, -0.5608,  ..., -0.3176, -0.0039,  0.3882],\n",
      "          [-0.6078, -0.5765, -0.5608,  ..., -0.4510, -0.2627, -0.0118],\n",
      "          ...,\n",
      "          [ 0.4588,  0.4588,  0.4588,  ...,  0.4196,  0.4118,  0.4118],\n",
      "          [ 0.4588,  0.4667,  0.4745,  ...,  0.4039,  0.4039,  0.4039],\n",
      "          [ 0.4667,  0.4745,  0.4902,  ...,  0.3961,  0.3882,  0.3804]],\n",
      "\n",
      "         [[-0.6549, -0.6627, -0.6706,  ..., -0.1765,  0.3569,  0.5529],\n",
      "          [-0.6863, -0.6706, -0.6627,  ..., -0.3804, -0.0510,  0.3804],\n",
      "          [-0.6941, -0.6627, -0.6549,  ..., -0.4824, -0.2941, -0.0275],\n",
      "          ...,\n",
      "          [ 0.5294,  0.5294,  0.5373,  ...,  0.4667,  0.4667,  0.4667],\n",
      "          [ 0.5294,  0.5373,  0.5529,  ...,  0.4588,  0.4588,  0.4667],\n",
      "          [ 0.5373,  0.5451,  0.5686,  ...,  0.4510,  0.4431,  0.4353]]],\n",
      "\n",
      "\n",
      "        ...,\n",
      "\n",
      "\n",
      "        [[[ 0.8980,  0.8980,  0.8980,  ...,  0.9686,  0.9608,  0.9608],\n",
      "          [ 0.8980,  0.8980,  0.8980,  ...,  0.9686,  0.9608,  0.9608],\n",
      "          [ 0.9059,  0.9059,  0.9059,  ...,  0.9686,  0.9608,  0.9529],\n",
      "          ...,\n",
      "          [-0.2784, -0.1529,  0.0196,  ..., -0.5922, -0.5922, -0.5922],\n",
      "          [-0.2235, -0.1216,  0.0196,  ..., -0.6000, -0.5922, -0.5843],\n",
      "          [-0.2000, -0.1059,  0.0196,  ..., -0.6078, -0.5922, -0.5843]],\n",
      "\n",
      "         [[ 0.9608,  0.9608,  0.9686,  ...,  0.9686,  0.9608,  0.9608],\n",
      "          [ 0.9608,  0.9608,  0.9686,  ...,  0.9686,  0.9608,  0.9608],\n",
      "          [ 0.9608,  0.9608,  0.9686,  ...,  0.9686,  0.9608,  0.9529],\n",
      "          ...,\n",
      "          [-0.3176, -0.2157, -0.0824,  ..., -0.4902, -0.4902, -0.4902],\n",
      "          [-0.2549, -0.1608, -0.0353,  ..., -0.4980, -0.4902, -0.4824],\n",
      "          [-0.2157, -0.1294, -0.0118,  ..., -0.4980, -0.4902, -0.4824]],\n",
      "\n",
      "         [[ 0.9843,  0.9843,  0.9843,  ...,  0.9529,  0.9451,  0.9451],\n",
      "          [ 0.9843,  0.9843,  0.9843,  ...,  0.9529,  0.9451,  0.9451],\n",
      "          [ 0.9765,  0.9765,  0.9765,  ...,  0.9529,  0.9451,  0.9373],\n",
      "          ...,\n",
      "          [-0.5765, -0.4902, -0.3647,  ..., -0.3098, -0.3098, -0.3098],\n",
      "          [-0.4980, -0.4118, -0.3020,  ..., -0.3020, -0.3020, -0.3020],\n",
      "          [-0.4588, -0.3725, -0.2627,  ..., -0.3020, -0.3020, -0.3020]]],\n",
      "\n",
      "\n",
      "        [[[-0.6549, -0.5373, -0.3333,  ...,  0.6314,  0.6392,  0.6549],\n",
      "          [-0.6549, -0.4980, -0.2471,  ...,  0.5451,  0.5137,  0.4980],\n",
      "          [-0.6549, -0.4353, -0.1137,  ...,  0.3961,  0.3804,  0.3882],\n",
      "          ...,\n",
      "          [-0.7020, -0.6941, -0.6784,  ..., -0.9922, -0.9922, -0.9922],\n",
      "          [-0.7333, -0.7176, -0.6863,  ..., -0.9922, -0.9922, -0.9922],\n",
      "          [-0.7882, -0.7412, -0.6706,  ..., -0.9922, -0.9922, -0.9922]],\n",
      "\n",
      "         [[-0.7412, -0.6157, -0.3961,  ...,  0.7412,  0.7569,  0.7647],\n",
      "          [-0.7647, -0.5843, -0.3020,  ...,  0.6706,  0.6392,  0.6157],\n",
      "          [-0.7725, -0.5216, -0.1451,  ...,  0.5294,  0.5216,  0.5216],\n",
      "          ...,\n",
      "          [-0.6784, -0.6863, -0.6863,  ..., -0.9765, -0.9765, -0.9765],\n",
      "          [-0.7647, -0.7490, -0.7098,  ..., -0.9765, -0.9765, -0.9765],\n",
      "          [-0.8118, -0.7569, -0.6706,  ..., -0.9765, -0.9765, -0.9765]],\n",
      "\n",
      "         [[-0.7255, -0.5843, -0.3490,  ...,  0.7098,  0.7333,  0.7490],\n",
      "          [-0.7333, -0.5529, -0.2627,  ...,  0.6549,  0.6157,  0.5922],\n",
      "          [-0.7255, -0.4824, -0.1137,  ...,  0.5137,  0.4902,  0.4824],\n",
      "          ...,\n",
      "          [-0.8510, -0.8510, -0.8353,  ..., -0.9843, -0.9922, -1.0000],\n",
      "          [-0.8588, -0.8431, -0.8039,  ..., -0.9843, -0.9922, -1.0000],\n",
      "          [-0.8902, -0.8431, -0.7725,  ..., -0.9843, -0.9922, -1.0000]]],\n",
      "\n",
      "\n",
      "        [[[ 0.0588,  0.1059,  0.1294,  ...,  0.2157,  0.2471,  0.3412],\n",
      "          [ 0.0745,  0.1059,  0.1294,  ...,  0.1922,  0.2627,  0.3804],\n",
      "          [ 0.0902,  0.1137,  0.1373,  ...,  0.1922,  0.3098,  0.4353],\n",
      "          ...,\n",
      "          [ 0.1137,  0.2000,  0.0667,  ...,  0.0196, -0.1294,  0.0118],\n",
      "          [ 0.1373,  0.2157,  0.0667,  ...,  0.0588, -0.0431,  0.0824],\n",
      "          [ 0.1137,  0.2000, -0.0039,  ...,  0.0824,  0.0902,  0.1608]],\n",
      "\n",
      "         [[ 0.1216,  0.1529,  0.1765,  ...,  0.2235,  0.2627,  0.3255],\n",
      "          [ 0.1216,  0.1451,  0.1686,  ...,  0.2000,  0.2706,  0.3490],\n",
      "          [ 0.1216,  0.1451,  0.1686,  ...,  0.2000,  0.2941,  0.3725],\n",
      "          ...,\n",
      "          [ 0.1451,  0.2157,  0.0824,  ...,  0.0980, -0.0588,  0.0431],\n",
      "          [ 0.1686,  0.2314,  0.0824,  ...,  0.1373,  0.0118,  0.1059],\n",
      "          [ 0.1451,  0.2235,  0.0196,  ...,  0.1608,  0.1294,  0.1843]],\n",
      "\n",
      "         [[-0.3647, -0.3255, -0.2941,  ..., -0.0353,  0.0353,  0.1922],\n",
      "          [-0.3176, -0.3020, -0.2706,  ..., -0.0588,  0.0588,  0.2314],\n",
      "          [-0.2471, -0.2471, -0.2392,  ..., -0.0431,  0.1059,  0.2863],\n",
      "          ...,\n",
      "          [-0.1373, -0.0902, -0.2471,  ..., -0.4039, -0.5294, -0.4275],\n",
      "          [-0.1137, -0.0745, -0.2549,  ..., -0.3647, -0.4510, -0.3569],\n",
      "          [-0.1529, -0.0902, -0.3333,  ..., -0.3412, -0.3255, -0.2784]]]])\n",
      "tensor([[   1,    1,    1,    1,    1,    1,    1,    1,    1,    1,    1,    1,\n",
      "            1,    1,    1,    1,    1,    1,    1,    1,    1,    1,    1,    1,\n",
      "            1,    1,    1,    1,    1,    1,    1,    1],\n",
      "        [  71, 1765,   53,   50,    4,    4,    4,   30, 2045,    4,    4,    4,\n",
      "            4,    4,   50,   50,  574,   14,    4,    4, 1319,   96, 1768,   10,\n",
      "            4,   50,    4,   10,   71,   10,   50,    4],\n",
      "        [  68,   34, 2410,   85,    6, 1387,   14,   16,   13,   43,    7,   61,\n",
      "           80,   61,  238,  237,   97,    8,   56,    3,    3,    3,   13,   61,\n",
      "           20,   96,    6,  692,   51,   43,   68, 1997],\n",
      "        [ 156,  316,    3,   51,   29,   16,   16,  194, 1526,  118,    8,    7,\n",
      "           17,    7,   45,   41,   34,   57, 1107,  216,   13,   24,  617,  348,\n",
      "            6,    3,    8,   20,   45,   17,   13,    6],\n",
      "        [ 188,   27,    6,   98,    8, 2063,    4,    6,  146,  109,    4,   81,\n",
      "           29,    8,   10,   12,   69,   83,    4,   80,  546,    3,    3,  516,\n",
      "          198,  708,   10,    6,   50,  384,    4,  253],\n",
      "        [   4, 1995,   79,   13,    4,   34,   80,   45, 2636,    4,  350,   67,\n",
      "            4,    4,  960,  604,    8, 1144,   38,   16,   45,  199,   66,   17,\n",
      "            4,  700,   31,   17,   30,    4,  819,   40],\n",
      "        [ 448,   19,   26,   10,   42,   10,  196,   62,    8,  344,   83,  100,\n",
      "          432,   57,  120,  800,   23,  217,  521, 1341,   12,    5, 2003,   29,\n",
      "          455,   73,    5,   79,   16,  537,   40,    4],\n",
      "        [   8,    4,  386,  702,    5, 2013,   99,  240,    4,   12,  247,  631,\n",
      "          206,   16,   17,    8,   11,   36,   40,   14,  195,    2,    2,   27,\n",
      "           16,  430,    2,    4,  120,   13,    3,  654],\n",
      "        [   4, 1291, 2559,    5,    2,   11,   10,   12,   42,   60, 1515,  125,\n",
      "            4,   21,   78,    4,    4,    5,   10,    8, 1098,    0,    0,  120,\n",
      "            4,  347,    0,  831,   20,    4,   44,  100],\n",
      "        [ 589,    2,   37,    2,    0,  482,  132,  352,    5,  608,  325,   13,\n",
      "          604, 2165,   90,  232,  157,    2,  227,    4,    3,    0,    0,   11,\n",
      "           36,  101,    0,   38,   45, 1029,    5,   84],\n",
      "        [   5,    0,   10,    0,    0,  175,    5,  322,    2, 1602,  243,    4,\n",
      "         1116,  220,   45,    5, 2243,    0,   27,   85,  133,    0,    0,   10,\n",
      "            8,  102,    0,  386,  209,   47,    2,    6],\n",
      "        [   2,    0,   31,    0,    0,   45,    2,  133,    0,    5,  104, 1594,\n",
      "            5,  198,   10,    2,    5,    0,  104,  531,    3,    0,    0,    3,\n",
      "           60,    5,    0,    5,    8,   27,    0, 1306],\n",
      "        [   0,    0,    5,    0,    0,   12,    0,   45,    0,    2,  534,  116,\n",
      "            2,  104,  406,    0,    2,    0, 2010,    5,    5,    0,    0,    5,\n",
      "           62,    2,    0,    2,   10,   24,    0,  102],\n",
      "        [   0,    0,    2,    0,    0,   71,    0,   29,    0,    0,   73,  487,\n",
      "            0,  640,   17,    0,    0,    0,    8,    2,    2,    0,    0,    2,\n",
      "          100,    0,    0,    0,  228,  664,    0,    5],\n",
      "        [   0,    0,    0,    0,    0, 2190,    0,    8,    0,    0,   84,  116,\n",
      "            0,  511,  409,    0,    0,    0,    4,    0,    0,    0,    0,    0,\n",
      "           84,    0,    0,    0,    5,    5,    0,    2],\n",
      "        [   0,    0,    0,    0,    0,    8,    0,   10,    0,    0,    7, 1369,\n",
      "            0,   67,    5,    0,    0,    0,  128,    0,    0,    0,    0,    0,\n",
      "         1306,    0,    0,    0,    2,    2,    0,    0],\n",
      "        [   0,    0,    0,    0,    0,   26,    0,   22,    0,    0,   75,    5,\n",
      "            0,   73,    2,    0,    0,    0,    5,    0,    0,    0,    0,    0,\n",
      "           86,    0,    0,    0,    0,    0,    0,    0],\n",
      "        [   0,    0,    0,    0,    0, 1172,    0,    5,    0,    0,    8,    2,\n",
      "            0,  104,    0,    0,    0,    0,    2,    0,    0,    0,    0,    0,\n",
      "            5,    0,    0,    0,    0,    0,    0,    0],\n",
      "        [   0,    0,    0,    0,    0,   27,    0,    2,    0,    0,   10,    0,\n",
      "            0,  107,    0,    0,    0,    0,    0,    0,    0,    0,    0,    0,\n",
      "            2,    0,    0,    0,    0,    0,    0,    0],\n",
      "        [   0,    0,    0,    0,    0,   10,    0,    0,    0,    0,  939,    0,\n",
      "            0,  190,    0,    0,    0,    0,    0,    0,    0,    0,    0,    0,\n",
      "            0,    0,    0,    0,    0,    0,    0,    0],\n",
      "        [   0,    0,    0,    0,    0,  617,    0,    0,    0,    0,    5,    0,\n",
      "            0,   17,    0,    0,    0,    0,    0,    0,    0,    0,    0,    0,\n",
      "            0,    0,    0,    0,    0,    0,    0,    0],\n",
      "        [   0,    0,    0,    0,    0,   16,    0,    0,    0,    0,    2,    0,\n",
      "            0,   13,    0,    0,    0,    0,    0,    0,    0,    0,    0,    0,\n",
      "            0,    0,    0,    0,    0,    0,    0,    0],\n",
      "        [   0,    0,    0,    0,    0, 2702,    0,    0,    0,    0,    0,    0,\n",
      "            0,  104,    0,    0,    0,    0,    0,    0,    0,    0,    0,    0,\n",
      "            0,    0,    0,    0,    0,    0,    0,    0],\n",
      "        [   0,    0,    0,    0,    0,   27,    0,    0,    0,    0,    0,    0,\n",
      "            0,    3,    0,    0,    0,    0,    0,    0,    0,    0,    0,    0,\n",
      "            0,    0,    0,    0,    0,    0,    0,    0],\n",
      "        [   0,    0,    0,    0,    0,   10,    0,    0,    0,    0,    0,    0,\n",
      "            0,    5,    0,    0,    0,    0,    0,    0,    0,    0,    0,    0,\n",
      "            0,    0,    0,    0,    0,    0,    0,    0],\n",
      "        [   0,    0,    0,    0,    0,  640,    0,    0,    0,    0,    0,    0,\n",
      "            0,    2,    0,    0,    0,    0,    0,    0,    0,    0,    0,    0,\n",
      "            0,    0,    0,    0,    0,    0,    0,    0],\n",
      "        [   0,    0,    0,    0,    0,    5,    0,    0,    0,    0,    0,    0,\n",
      "            0,    0,    0,    0,    0,    0,    0,    0,    0,    0,    0,    0,\n",
      "            0,    0,    0,    0,    0,    0,    0,    0],\n",
      "        [   0,    0,    0,    0,    0,    2,    0,    0,    0,    0,    0,    0,\n",
      "            0,    0,    0,    0,    0,    0,    0,    0,    0,    0,    0,    0,\n",
      "            0,    0,    0,    0,    0,    0,    0,    0]])\n"
     ]
    }
   ],
   "source": [
    "for idx,(imgs,captions) in enumerate(loader):\n",
    "    print(imgs)\n",
    "    print(captions)\n",
    "    break"
   ]
  },
  {
   "cell_type": "code",
   "execution_count": 10,
   "metadata": {},
   "outputs": [],
   "source": [
    "def print_examples(model, device, dataset):\n",
    "    transform = transforms.Compose(\n",
    "        [\n",
    "            transforms.Resize((224, 224)),\n",
    "            transforms.ToTensor(),\n",
    "            transforms.Normalize((0.5, 0.5, 0.5), (0.5, 0.5, 0.5)),\n",
    "        ]\n",
    "    )\n",
    "\n",
    "    model.eval()\n",
    "    test_img1 = transform(Image.open(\"test_examples/dog.jpg\").convert(\"RGB\")).unsqueeze(\n",
    "        0\n",
    "    )\n",
    "    print(\"Example 1 CORRECT: Dog on a beach by the ocean\")\n",
    "    print(\n",
    "        \"Example 1 OUTPUT: \"\n",
    "        + \" \".join(model.caption_image(test_img1.to(device), dataset.vocab))\n",
    "    )\n",
    "    test_img2 = transform(\n",
    "        Image.open(\"test_examples/child.jpg\").convert(\"RGB\")\n",
    "    ).unsqueeze(0)\n",
    "    print(\"Example 2 CORRECT: Child holding red frisbee outdoors\")\n",
    "    print(\n",
    "        \"Example 2 OUTPUT: \"\n",
    "        + \" \".join(model.caption_image(test_img2.to(device), dataset.vocab))\n",
    "    )\n",
    "    test_img3 = transform(Image.open(\"test_examples/bus.png\").convert(\"RGB\")).unsqueeze(\n",
    "        0\n",
    "    )\n",
    "    print(\"Example 3 CORRECT: Bus driving by parked cars\")\n",
    "    print(\n",
    "        \"Example 3 OUTPUT: \"\n",
    "        + \" \".join(model.caption_image(test_img3.to(device), dataset.vocab))\n",
    "    )\n",
    "    test_img4 = transform(\n",
    "        Image.open(\"test_examples/boat.png\").convert(\"RGB\")\n",
    "    ).unsqueeze(0)\n",
    "    print(\"Example 4 CORRECT: A small boat in the ocean\")\n",
    "    print(\n",
    "        \"Example 4 OUTPUT: \"\n",
    "        + \" \".join(model.caption_image(test_img4.to(device), dataset.vocab))\n",
    "    )\n",
    "    test_img5 = transform(\n",
    "        Image.open(\"test_examples/horse.png\").convert(\"RGB\")\n",
    "    ).unsqueeze(0)\n",
    "    print(\"Example 5 CORRECT: A cowboy riding a horse in the desert\")\n",
    "    print(\n",
    "        \"Example 5 OUTPUT: \"\n",
    "        + \" \".join(model.caption_image(test_img5.to(device), dataset.vocab))\n",
    "    )\n",
    "    model.train()"
   ]
  },
  {
   "cell_type": "code",
   "execution_count": null,
   "metadata": {},
   "outputs": [
    {
     "name": "stdout",
     "output_type": "stream",
     "text": [
      "0\n",
      "Example 1 CORRECT: Dog on a beach by the ocean\n"
     ]
    },
    {
     "name": "stderr",
     "output_type": "stream",
     "text": [
      "/home/esun/Image_Captioner/.venv/lib/python3.12/site-packages/torchvision/transforms/v2/_deprecated.py:42: UserWarning: The transform `ToTensor()` is deprecated and will be removed in a future release. Instead, please use `v2.Compose([v2.ToImage(), v2.ToDtype(torch.float32, scale=True)])`.Output is equivalent up to float precision.\n",
      "  warnings.warn(\n"
     ]
    },
    {
     "name": "stdout",
     "output_type": "stream",
     "text": [
      "Example 1 OUTPUT: ! crystal engine children spotlight jogs connected lab feathered interviews viewer swing ball cycling bends vehicles topless infant incline throwing crashes crashes vehicles ollie focus tag onstage beyond squats purse purse paper ascending low batting ascending community sand acrobatic rail listening swan carry filling mouse resort trunk guiding dancing carving\n",
      "Example 2 CORRECT: Child holding red frisbee outdoors\n",
      "Example 2 OUTPUT: males way bite very brownish gathers stairway ! overhead overhead overhead overhead overhead overhead overhead overhead overhead overhead overhead overhead overhead overhead overhead overhead overhead overhead overhead overhead overhead overhead overhead overhead overhead overhead overhead overhead overhead overhead overhead overhead overhead overhead overhead overhead overhead overhead overhead overhead overhead overhead\n",
      "Example 3 CORRECT: Bus driving by parked cars\n",
      "Example 3 OUTPUT: pizza winds tattoos climbing carpeted site being goose wakeboarding pad unicycle kangaroo kangaroo enclosed policeman miniature cheerleaders cheerleaders shower animals tail pierced union operating puck dancing violin gathering wear restaurant rough and itself made rows frames frog german pitches coaster pursued urban windsurfer heading swimming ascending community support batting support\n",
      "Example 4 CORRECT: A small boat in the ocean\n",
      "Example 4 OUTPUT: obstacle hay bite sweatshirt bunny massive end are seven crashes teacher team crashes crashes teacher leotard ear marx wild aqua used sing approaching practice shaking equipment headphones geyser geyser geyser racquet geyser racquet hand music goggles or dust lay tag bank pyramid range comes sound sash playing escalator beginning sumo\n",
      "Example 5 CORRECT: A cowboy riding a horse in the desert\n",
      "Example 5 OUTPUT: rival carpeted tackling wooded painted hug harnessed bouncing hit position showing ticket explosion seal card pointy raise card bundled surfboards somebody stops fighting peers during saxophone bark shoveling converse card marker goal stops fighting float excited father barks eagle miniature strap strap strap range climb paint stops fighting peers during\n"
     ]
    },
    {
     "name": "stderr",
     "output_type": "stream",
     "text": [
      "                                                   "
     ]
    },
    {
     "name": "stdout",
     "output_type": "stream",
     "text": [
      "1\n",
      "Example 1 CORRECT: Dog on a beach by the ocean\n",
      "Example 1 OUTPUT: a a a a a a a a a a a a a a a a a a a a a a a a a a a a a a a a a a a a a a a a a a a a a a a a a a\n",
      "Example 2 CORRECT: Child holding red frisbee outdoors\n",
      "Example 2 OUTPUT: a a a a a a a a a a a a a a a a a a a a a a a a a a a a a a a a a a a a a a a a a a a a a a a a a a\n",
      "Example 3 CORRECT: Bus driving by parked cars\n",
      "Example 3 OUTPUT: a a a a a a a a a a a a a a a a a a a a a a a a a a a a a a a a a a a a a a a a a a a a a a a a a a\n",
      "Example 4 CORRECT: A small boat in the ocean\n",
      "Example 4 OUTPUT: a a a a a a a a a a a a a a a a a a a a a a a a a a a a a a a a a a a a a a a a a a a a a a a a a a\n",
      "Example 5 CORRECT: A cowboy riding a horse in the desert\n",
      "Example 5 OUTPUT: a a a a a a a a a a a a a a a a a a a a a a a a a a a a a a a a a a a a a a a a a a a a a a a a a a\n"
     ]
    },
    {
     "name": "stderr",
     "output_type": "stream",
     "text": [
      "                                                   \r"
     ]
    },
    {
     "name": "stdout",
     "output_type": "stream",
     "text": [
      "2\n",
      "Example 1 CORRECT: Dog on a beach by the ocean\n",
      "Example 1 OUTPUT: a a a a a a a a a a a a a a a a a a a a a a a a a a a a a a a a a a a a a a a a a a a a a a a a a a\n",
      "Example 2 CORRECT: Child holding red frisbee outdoors\n",
      "Example 2 OUTPUT: a a a a a a a a a a a a a a a a a a a a a a a a a a a a a a a a a a a a a a a a a a a a a a a a a a\n",
      "Example 3 CORRECT: Bus driving by parked cars\n",
      "Example 3 OUTPUT: a a a a a a a a a a a a a a a a a a a a a a a a a a a a a a a a a a a a a a a a a a a a a a a a a a\n",
      "Example 4 CORRECT: A small boat in the ocean\n",
      "Example 4 OUTPUT: a a a a a a a a a a a a a a a a a a a a a a a a a a a a a a a a a a a a a a a a a a a a a a a a a a\n",
      "Example 5 CORRECT: A cowboy riding a horse in the desert\n",
      "Example 5 OUTPUT: a a a a a a a a a a a a a a a a a a a a a a a a a a a a a a a a a a a a a a a a a a a a a a a a a a\n"
     ]
    },
    {
     "name": "stderr",
     "output_type": "stream",
     "text": [
      "                                                   \r"
     ]
    },
    {
     "name": "stdout",
     "output_type": "stream",
     "text": [
      "3\n",
      "Example 1 CORRECT: Dog on a beach by the ocean\n",
      "Example 1 OUTPUT: a a a a a a a a a a a a a a a a a a a a a a a a a a a a a a a a a a a a a a a a a a a a a a a a a a\n",
      "Example 2 CORRECT: Child holding red frisbee outdoors\n",
      "Example 2 OUTPUT: a a a a a a a a a a a a a a a a a a a a a a a a a a a a a a a a a a a a a a a a a a a a a a a a a a\n",
      "Example 3 CORRECT: Bus driving by parked cars\n",
      "Example 3 OUTPUT: a a a a a a a a a a a a a a a a a a a a a a a a a a a a a a a a a a a a a a a a a a a a a a a a a a\n",
      "Example 4 CORRECT: A small boat in the ocean\n",
      "Example 4 OUTPUT: a a a a a a a a a a a a a a a a a a a a a a a a a a a a a a a a a a a a a a a a a a a a a a a a a a\n",
      "Example 5 CORRECT: A cowboy riding a horse in the desert\n",
      "Example 5 OUTPUT: a a a a a a a a a a a a a a a a a a a a a a a a a a a a a a a a a a a a a a a a a a a a a a a a a a\n"
     ]
    },
    {
     "name": "stderr",
     "output_type": "stream",
     "text": [
      "                                                   \r"
     ]
    },
    {
     "name": "stdout",
     "output_type": "stream",
     "text": [
      "4\n",
      "Example 1 CORRECT: Dog on a beach by the ocean\n",
      "Example 1 OUTPUT: a a a a a a a a a a a a a a a a a a a a a a a a a a a a a a a a a a a a a a a a a a a a a a a a a a\n",
      "Example 2 CORRECT: Child holding red frisbee outdoors\n",
      "Example 2 OUTPUT: a a a a a a a a a a a a a a a a a a a a a a a a a a a a a a a a a a a a a a a a a a a a a a a a a a\n",
      "Example 3 CORRECT: Bus driving by parked cars\n",
      "Example 3 OUTPUT: a a a a a a a a a a a a a a a a a a a a a a a a a a a a a a a a a a a a a a a a a a a a a a a a a a\n",
      "Example 4 CORRECT: A small boat in the ocean\n",
      "Example 4 OUTPUT: a a a a a a a a a a a a a a a a a a a a a a a a a a a a a a a a a a a a a a a a a a a a a a a a a a\n",
      "Example 5 CORRECT: A cowboy riding a horse in the desert\n",
      "Example 5 OUTPUT: a a a a a a a a a a a a a a a a a a a a a a a a a a a a a a a a a a a a a a a a a a a a a a a a a a\n"
     ]
    },
    {
     "name": "stderr",
     "output_type": "stream",
     "text": [
      "                                                   \r"
     ]
    },
    {
     "name": "stdout",
     "output_type": "stream",
     "text": [
      "5\n",
      "Example 1 CORRECT: Dog on a beach by the ocean\n",
      "Example 1 OUTPUT: a . <EOS>\n",
      "Example 2 CORRECT: Child holding red frisbee outdoors\n",
      "Example 2 OUTPUT: a . <EOS>\n",
      "Example 3 CORRECT: Bus driving by parked cars\n",
      "Example 3 OUTPUT: a . <EOS>\n",
      "Example 4 CORRECT: A small boat in the ocean\n",
      "Example 4 OUTPUT: a . <EOS>\n",
      "Example 5 CORRECT: A cowboy riding a horse in the desert\n",
      "Example 5 OUTPUT: a . <EOS>\n"
     ]
    },
    {
     "name": "stderr",
     "output_type": "stream",
     "text": [
      "                                                   \r"
     ]
    },
    {
     "name": "stdout",
     "output_type": "stream",
     "text": [
      "6\n",
      "Example 1 CORRECT: Dog on a beach by the ocean\n",
      "Example 1 OUTPUT: <SOS> a . <EOS>\n",
      "Example 2 CORRECT: Child holding red frisbee outdoors\n",
      "Example 2 OUTPUT: <SOS> a . <EOS>\n",
      "Example 3 CORRECT: Bus driving by parked cars\n",
      "Example 3 OUTPUT: <SOS> a . <EOS>\n",
      "Example 4 CORRECT: A small boat in the ocean\n",
      "Example 4 OUTPUT: <SOS> a . <EOS>\n",
      "Example 5 CORRECT: A cowboy riding a horse in the desert\n",
      "Example 5 OUTPUT: <SOS> a . <EOS>\n"
     ]
    },
    {
     "name": "stderr",
     "output_type": "stream",
     "text": [
      "                                                   \r"
     ]
    },
    {
     "name": "stdout",
     "output_type": "stream",
     "text": [
      "7\n",
      "Example 1 CORRECT: Dog on a beach by the ocean\n",
      "Example 1 OUTPUT: <SOS> a . <EOS>\n",
      "Example 2 CORRECT: Child holding red frisbee outdoors\n",
      "Example 2 OUTPUT: <SOS> a . <EOS>\n",
      "Example 3 CORRECT: Bus driving by parked cars\n",
      "Example 3 OUTPUT: <SOS> a . <EOS>\n",
      "Example 4 CORRECT: A small boat in the ocean\n",
      "Example 4 OUTPUT: <SOS> a . <EOS>\n",
      "Example 5 CORRECT: A cowboy riding a horse in the desert\n",
      "Example 5 OUTPUT: <SOS> a . <EOS>\n"
     ]
    },
    {
     "name": "stderr",
     "output_type": "stream",
     "text": [
      "                                                   \r"
     ]
    },
    {
     "name": "stdout",
     "output_type": "stream",
     "text": [
      "8\n",
      "Example 1 CORRECT: Dog on a beach by the ocean\n",
      "Example 1 OUTPUT: <SOS> a man a man in a . <EOS>\n",
      "Example 2 CORRECT: Child holding red frisbee outdoors\n",
      "Example 2 OUTPUT: <SOS> a man a man in a . <EOS>\n",
      "Example 3 CORRECT: Bus driving by parked cars\n",
      "Example 3 OUTPUT: <SOS> a man a man in a . <EOS>\n",
      "Example 4 CORRECT: A small boat in the ocean\n",
      "Example 4 OUTPUT: <SOS> a man a man in a . <EOS>\n",
      "Example 5 CORRECT: A cowboy riding a horse in the desert\n",
      "Example 5 OUTPUT: <SOS> a man a man in a . <EOS>\n"
     ]
    },
    {
     "name": "stderr",
     "output_type": "stream",
     "text": [
      "                                                   \r"
     ]
    },
    {
     "name": "stdout",
     "output_type": "stream",
     "text": [
      "9\n",
      "Example 1 CORRECT: Dog on a beach by the ocean\n",
      "Example 1 OUTPUT: <SOS> a man a man in a man . <EOS>\n",
      "Example 2 CORRECT: Child holding red frisbee outdoors\n",
      "Example 2 OUTPUT: <SOS> a man a man in a man . <EOS>\n",
      "Example 3 CORRECT: Bus driving by parked cars\n",
      "Example 3 OUTPUT: <SOS> a man a man in a man . <EOS>\n",
      "Example 4 CORRECT: A small boat in the ocean\n",
      "Example 4 OUTPUT: <SOS> a man a man in a man . <EOS>\n",
      "Example 5 CORRECT: A cowboy riding a horse in the desert\n",
      "Example 5 OUTPUT: <SOS> a man a man in a man . <EOS>\n"
     ]
    },
    {
     "name": "stderr",
     "output_type": "stream",
     "text": [
      "                                                   \r"
     ]
    },
    {
     "name": "stdout",
     "output_type": "stream",
     "text": [
      "10\n",
      "Example 1 CORRECT: Dog on a beach by the ocean\n",
      "Example 1 OUTPUT: <SOS> a man in a man in a man in a man . <EOS>\n",
      "Example 2 CORRECT: Child holding red frisbee outdoors\n",
      "Example 2 OUTPUT: <SOS> a man in a man in a man in a man . <EOS>\n",
      "Example 3 CORRECT: Bus driving by parked cars\n",
      "Example 3 OUTPUT: <SOS> a man in a man in a man in a man . <EOS>\n",
      "Example 4 CORRECT: A small boat in the ocean\n",
      "Example 4 OUTPUT: <SOS> a man in a man in a man in a man . <EOS>\n",
      "Example 5 CORRECT: A cowboy riding a horse in the desert\n",
      "Example 5 OUTPUT: <SOS> a man in a man in a man in a man . <EOS>\n"
     ]
    },
    {
     "name": "stderr",
     "output_type": "stream",
     "text": [
      "                                                   \r"
     ]
    },
    {
     "name": "stdout",
     "output_type": "stream",
     "text": [
      "11\n",
      "Example 1 CORRECT: Dog on a beach by the ocean\n",
      "Example 1 OUTPUT: <SOS> a man in a man in a man in a man in a man in a man in a man in a man in a man in a man in a man in a man in a man in a man in a man in a man in a\n",
      "Example 2 CORRECT: Child holding red frisbee outdoors\n",
      "Example 2 OUTPUT: <SOS> a man in a man in a man in a man in a man in a man in a man in a man in a man in a man in a man in a man in a man in a man in a man in a man in a\n",
      "Example 3 CORRECT: Bus driving by parked cars\n",
      "Example 3 OUTPUT: <SOS> a man in a man in a man in a man in a man in a man in a man in a man in a man in a man in a man in a man in a man in a man in a man in a man in a\n",
      "Example 4 CORRECT: A small boat in the ocean\n",
      "Example 4 OUTPUT: <SOS> a man in a man in a man in a man in a man in a man in a man in a man in a man in a man in a man in a man in a man in a man in a man in a man in a\n",
      "Example 5 CORRECT: A cowboy riding a horse in the desert\n",
      "Example 5 OUTPUT: <SOS> a man in a man in a man in a man in a man in a man in a man in a man in a man in a man in a man in a man in a man in a man in a man in a man in a\n"
     ]
    },
    {
     "name": "stderr",
     "output_type": "stream",
     "text": [
      "                                                   \r"
     ]
    },
    {
     "name": "stdout",
     "output_type": "stream",
     "text": [
      "12\n",
      "Example 1 CORRECT: Dog on a beach by the ocean\n",
      "Example 1 OUTPUT: <SOS> a man in a man in a man in a man in a man in a man in a man in a man in a man in a man in a man in a man in a man in a man in a man in a man in a\n",
      "Example 2 CORRECT: Child holding red frisbee outdoors\n",
      "Example 2 OUTPUT: <SOS> a man in a man in a man in a man in a man in a man in a man in a man in a man in a man in a man in a man in a man in a man in a man in a man in a\n",
      "Example 3 CORRECT: Bus driving by parked cars\n",
      "Example 3 OUTPUT: <SOS> a man in a man in a man in a man in a man in a man in a man in a man in a man in a man in a man in a man in a man in a man in a man in a man in a\n",
      "Example 4 CORRECT: A small boat in the ocean\n",
      "Example 4 OUTPUT: <SOS> a man in a man in a man in a man in a man in a man in a man in a man in a man in a man in a man in a man in a man in a man in a man in a man in a\n",
      "Example 5 CORRECT: A cowboy riding a horse in the desert\n",
      "Example 5 OUTPUT: <SOS> a man in a man in a man in a man in a man in a man in a man in a man in a man in a man in a man in a man in a man in a man in a man in a man in a\n"
     ]
    },
    {
     "name": "stderr",
     "output_type": "stream",
     "text": [
      "                                                   \r"
     ]
    },
    {
     "name": "stdout",
     "output_type": "stream",
     "text": [
      "13\n",
      "Example 1 CORRECT: Dog on a beach by the ocean\n",
      "Example 1 OUTPUT: <SOS> a man in a man in a man in a man in a man in a man in a man in a man in a man in a man in a man in a man in a man in a man in a man in a man in a\n",
      "Example 2 CORRECT: Child holding red frisbee outdoors\n",
      "Example 2 OUTPUT: <SOS> a man in a man in a man in a man in a man in a man in a man in a man in a man in a man in a man in a man in a man in a man in a man in a man in a\n",
      "Example 3 CORRECT: Bus driving by parked cars\n",
      "Example 3 OUTPUT: <SOS> a man in a man in a man in a man in a man in a man in a man in a man in a man in a man in a man in a man in a man in a man in a man in a man in a\n",
      "Example 4 CORRECT: A small boat in the ocean\n",
      "Example 4 OUTPUT: <SOS> a man in a man in a man in a man in a man in a man in a man in a man in a man in a man in a man in a man in a man in a man in a man in a man in a\n",
      "Example 5 CORRECT: A cowboy riding a horse in the desert\n",
      "Example 5 OUTPUT: <SOS> a man in a man in a man in a man in a man in a man in a man in a man in a man in a man in a man in a man in a man in a man in a man in a man in a\n"
     ]
    },
    {
     "name": "stderr",
     "output_type": "stream",
     "text": [
      "                                                   \r"
     ]
    },
    {
     "name": "stdout",
     "output_type": "stream",
     "text": [
      "14\n",
      "Example 1 CORRECT: Dog on a beach by the ocean\n",
      "Example 1 OUTPUT: <SOS> a man in a man in a man in a man in a man in a man . <EOS>\n",
      "Example 2 CORRECT: Child holding red frisbee outdoors\n",
      "Example 2 OUTPUT: <SOS> a man in a man in a man in a man in a man in a man . <EOS>\n",
      "Example 3 CORRECT: Bus driving by parked cars\n",
      "Example 3 OUTPUT: <SOS> a man in a man in a man in a man in a man in a man . <EOS>\n",
      "Example 4 CORRECT: A small boat in the ocean\n",
      "Example 4 OUTPUT: <SOS> a man in a man in a man in a man in a man in a man . <EOS>\n",
      "Example 5 CORRECT: A cowboy riding a horse in the desert\n",
      "Example 5 OUTPUT: <SOS> a man in a man in a man in a man in a man in a man . <EOS>\n"
     ]
    },
    {
     "name": "stderr",
     "output_type": "stream",
     "text": [
      "                                                   \r"
     ]
    },
    {
     "name": "stdout",
     "output_type": "stream",
     "text": [
      "15\n",
      "Example 1 CORRECT: Dog on a beach by the ocean\n",
      "Example 1 OUTPUT: <SOS> a man in a man in a man in a man in a man . <EOS>\n",
      "Example 2 CORRECT: Child holding red frisbee outdoors\n",
      "Example 2 OUTPUT: <SOS> a man in a man in a man in a man in a man . <EOS>\n",
      "Example 3 CORRECT: Bus driving by parked cars\n",
      "Example 3 OUTPUT: <SOS> a man in a man in a man in a man in a man . <EOS>\n",
      "Example 4 CORRECT: A small boat in the ocean\n",
      "Example 4 OUTPUT: <SOS> a man in a man in a man in a man in a man . <EOS>\n",
      "Example 5 CORRECT: A cowboy riding a horse in the desert\n",
      "Example 5 OUTPUT: <SOS> a man in a man in a man in a man in a man . <EOS>\n"
     ]
    },
    {
     "name": "stderr",
     "output_type": "stream",
     "text": [
      "                                                   \r"
     ]
    },
    {
     "name": "stdout",
     "output_type": "stream",
     "text": [
      "16\n",
      "Example 1 CORRECT: Dog on a beach by the ocean\n",
      "Example 1 OUTPUT: <SOS> a man in a man in a man in a man in a man . <EOS>\n",
      "Example 2 CORRECT: Child holding red frisbee outdoors\n",
      "Example 2 OUTPUT: <SOS> a man in a man in a man in a man in a man . <EOS>\n",
      "Example 3 CORRECT: Bus driving by parked cars\n",
      "Example 3 OUTPUT: <SOS> a man in a man in a man in a man in a man . <EOS>\n",
      "Example 4 CORRECT: A small boat in the ocean\n",
      "Example 4 OUTPUT: <SOS> a man in a man in a man in a man in a man . <EOS>\n",
      "Example 5 CORRECT: A cowboy riding a horse in the desert\n",
      "Example 5 OUTPUT: <SOS> a man in a man in a man in a man in a man . <EOS>\n"
     ]
    },
    {
     "name": "stderr",
     "output_type": "stream",
     "text": [
      "                                                   \r"
     ]
    },
    {
     "name": "stdout",
     "output_type": "stream",
     "text": [
      "17\n",
      "Example 1 CORRECT: Dog on a beach by the ocean\n",
      "Example 1 OUTPUT: <SOS> a man in a man in a man in a man in a man . <EOS>\n",
      "Example 2 CORRECT: Child holding red frisbee outdoors\n",
      "Example 2 OUTPUT: <SOS> a man in a man in a man in a man in a man . <EOS>\n",
      "Example 3 CORRECT: Bus driving by parked cars\n",
      "Example 3 OUTPUT: <SOS> a man in a man in a man in a man in a man . <EOS>\n",
      "Example 4 CORRECT: A small boat in the ocean\n",
      "Example 4 OUTPUT: <SOS> a man in a man in a man in a man in a man . <EOS>\n",
      "Example 5 CORRECT: A cowboy riding a horse in the desert\n",
      "Example 5 OUTPUT: <SOS> a man in a man in a man in a man in a man . <EOS>\n"
     ]
    },
    {
     "name": "stderr",
     "output_type": "stream",
     "text": [
      "                                                   \r"
     ]
    },
    {
     "name": "stdout",
     "output_type": "stream",
     "text": [
      "18\n",
      "Example 1 CORRECT: Dog on a beach by the ocean\n",
      "Example 1 OUTPUT: <SOS> a man in a man in a man in a man in a man . <EOS>\n",
      "Example 2 CORRECT: Child holding red frisbee outdoors\n",
      "Example 2 OUTPUT: <SOS> a man in a man in a man in a man in a man . <EOS>\n",
      "Example 3 CORRECT: Bus driving by parked cars\n",
      "Example 3 OUTPUT: <SOS> a man in a man in a man in a man in a man . <EOS>\n",
      "Example 4 CORRECT: A small boat in the ocean\n",
      "Example 4 OUTPUT: <SOS> a man in a man in a man in a man in a man . <EOS>\n",
      "Example 5 CORRECT: A cowboy riding a horse in the desert\n",
      "Example 5 OUTPUT: <SOS> a man in a man in a man in a man in a man . <EOS>\n"
     ]
    },
    {
     "name": "stderr",
     "output_type": "stream",
     "text": [
      "                                                   \r"
     ]
    },
    {
     "name": "stdout",
     "output_type": "stream",
     "text": [
      "19\n",
      "Example 1 CORRECT: Dog on a beach by the ocean\n",
      "Example 1 OUTPUT: <SOS> a man in a man in a man in a man in a man . <EOS>\n",
      "Example 2 CORRECT: Child holding red frisbee outdoors\n",
      "Example 2 OUTPUT: <SOS> a man in a man in a man in a man in a man . <EOS>\n",
      "Example 3 CORRECT: Bus driving by parked cars\n",
      "Example 3 OUTPUT: <SOS> a man in a man in a man in a man in a man . <EOS>\n",
      "Example 4 CORRECT: A small boat in the ocean\n",
      "Example 4 OUTPUT: <SOS> a man in a man in a man in a man in a man . <EOS>\n",
      "Example 5 CORRECT: A cowboy riding a horse in the desert\n",
      "Example 5 OUTPUT: <SOS> a man in a man in a man in a man in a man . <EOS>\n"
     ]
    },
    {
     "name": "stderr",
     "output_type": "stream",
     "text": [
      "                                                   \r"
     ]
    },
    {
     "name": "stdout",
     "output_type": "stream",
     "text": [
      "20\n",
      "Example 1 CORRECT: Dog on a beach by the ocean\n",
      "Example 1 OUTPUT: <SOS> a man in a man in a man in a man in a man . <EOS>\n",
      "Example 2 CORRECT: Child holding red frisbee outdoors\n",
      "Example 2 OUTPUT: <SOS> a man in a man in a man in a man in a man . <EOS>\n",
      "Example 3 CORRECT: Bus driving by parked cars\n",
      "Example 3 OUTPUT: <SOS> a man in a man in a man in a man in a man . <EOS>\n",
      "Example 4 CORRECT: A small boat in the ocean\n",
      "Example 4 OUTPUT: <SOS> a man in a man in a man in a man in a man . <EOS>\n",
      "Example 5 CORRECT: A cowboy riding a horse in the desert\n",
      "Example 5 OUTPUT: <SOS> a man in a man in a man in a man in a man . <EOS>\n"
     ]
    },
    {
     "name": "stderr",
     "output_type": "stream",
     "text": [
      "                                                   \r"
     ]
    },
    {
     "name": "stdout",
     "output_type": "stream",
     "text": [
      "21\n",
      "Example 1 CORRECT: Dog on a beach by the ocean\n",
      "Example 1 OUTPUT: <SOS> a man in a man in a man in a man in a <UNK> . <EOS>\n",
      "Example 2 CORRECT: Child holding red frisbee outdoors\n",
      "Example 2 OUTPUT: <SOS> a man in a man in a man in a man in a <UNK> . <EOS>\n",
      "Example 3 CORRECT: Bus driving by parked cars\n",
      "Example 3 OUTPUT: <SOS> a man in a man in a man in a man in a <UNK> . <EOS>\n",
      "Example 4 CORRECT: A small boat in the ocean\n",
      "Example 4 OUTPUT: <SOS> a man in a man in a man in a man in a <UNK> . <EOS>\n",
      "Example 5 CORRECT: A cowboy riding a horse in the desert\n",
      "Example 5 OUTPUT: <SOS> a man in a man in a man in a man in a <UNK> . <EOS>\n"
     ]
    },
    {
     "name": "stderr",
     "output_type": "stream",
     "text": [
      "                                                   \r"
     ]
    },
    {
     "name": "stdout",
     "output_type": "stream",
     "text": [
      "22\n",
      "Example 1 CORRECT: Dog on a beach by the ocean\n",
      "Example 1 OUTPUT: <SOS> a man in a man in a man in a <UNK> . <EOS>\n",
      "Example 2 CORRECT: Child holding red frisbee outdoors\n",
      "Example 2 OUTPUT: <SOS> a man in a man in a man in a <UNK> . <EOS>\n",
      "Example 3 CORRECT: Bus driving by parked cars\n",
      "Example 3 OUTPUT: <SOS> a man in a man in a man in a <UNK> . <EOS>\n",
      "Example 4 CORRECT: A small boat in the ocean\n",
      "Example 4 OUTPUT: <SOS> a man in a man in a man in a <UNK> . <EOS>\n",
      "Example 5 CORRECT: A cowboy riding a horse in the desert\n",
      "Example 5 OUTPUT: <SOS> a man in a man in a man in a <UNK> . <EOS>\n"
     ]
    },
    {
     "name": "stderr",
     "output_type": "stream",
     "text": [
      "                                                   \r"
     ]
    },
    {
     "name": "stdout",
     "output_type": "stream",
     "text": [
      "23\n",
      "Example 1 CORRECT: Dog on a beach by the ocean\n",
      "Example 1 OUTPUT: <SOS> a man in a man in a man in a <UNK> . <EOS>\n",
      "Example 2 CORRECT: Child holding red frisbee outdoors\n",
      "Example 2 OUTPUT: <SOS> a man in a man in a man in a <UNK> . <EOS>\n",
      "Example 3 CORRECT: Bus driving by parked cars\n",
      "Example 3 OUTPUT: <SOS> a man in a man in a man in a <UNK> . <EOS>\n",
      "Example 4 CORRECT: A small boat in the ocean\n",
      "Example 4 OUTPUT: <SOS> a man in a man in a man in a <UNK> . <EOS>\n",
      "Example 5 CORRECT: A cowboy riding a horse in the desert\n",
      "Example 5 OUTPUT: <SOS> a man in a man in a man in a <UNK> . <EOS>\n"
     ]
    },
    {
     "name": "stderr",
     "output_type": "stream",
     "text": [
      "                                                   \r"
     ]
    },
    {
     "name": "stdout",
     "output_type": "stream",
     "text": [
      "24\n",
      "Example 1 CORRECT: Dog on a beach by the ocean\n",
      "Example 1 OUTPUT: <SOS> a man in a man in a man in a <UNK> . <EOS>\n",
      "Example 2 CORRECT: Child holding red frisbee outdoors\n",
      "Example 2 OUTPUT: <SOS> a man in a man in a man in a <UNK> . <EOS>\n",
      "Example 3 CORRECT: Bus driving by parked cars\n",
      "Example 3 OUTPUT: <SOS> a man in a man in a man in a <UNK> . <EOS>\n",
      "Example 4 CORRECT: A small boat in the ocean\n",
      "Example 4 OUTPUT: <SOS> a man in a man in a man in a <UNK> . <EOS>\n",
      "Example 5 CORRECT: A cowboy riding a horse in the desert\n",
      "Example 5 OUTPUT: <SOS> a man in a man in a man in a <UNK> . <EOS>\n"
     ]
    },
    {
     "name": "stderr",
     "output_type": "stream",
     "text": [
      "                                                   \r"
     ]
    },
    {
     "name": "stdout",
     "output_type": "stream",
     "text": [
      "25\n",
      "Example 1 CORRECT: Dog on a beach by the ocean\n",
      "Example 1 OUTPUT: <SOS> a man in a man in a man in a <UNK> . <EOS>\n",
      "Example 2 CORRECT: Child holding red frisbee outdoors\n",
      "Example 2 OUTPUT: <SOS> a man in a man in a man in a <UNK> . <EOS>\n",
      "Example 3 CORRECT: Bus driving by parked cars\n",
      "Example 3 OUTPUT: <SOS> a man in a man in a man in a <UNK> . <EOS>\n",
      "Example 4 CORRECT: A small boat in the ocean\n",
      "Example 4 OUTPUT: <SOS> a man in a man in a man in a <UNK> . <EOS>\n",
      "Example 5 CORRECT: A cowboy riding a horse in the desert\n",
      "Example 5 OUTPUT: <SOS> a man in a man in a man in a <UNK> . <EOS>\n"
     ]
    },
    {
     "name": "stderr",
     "output_type": "stream",
     "text": [
      "                                                   \r"
     ]
    },
    {
     "name": "stdout",
     "output_type": "stream",
     "text": [
      "26\n",
      "Example 1 CORRECT: Dog on a beach by the ocean\n",
      "Example 1 OUTPUT: <SOS> a man in a man in a <UNK> . <EOS>\n",
      "Example 2 CORRECT: Child holding red frisbee outdoors\n",
      "Example 2 OUTPUT: <SOS> a man in a man in a man in a <UNK> . <EOS>\n",
      "Example 3 CORRECT: Bus driving by parked cars\n",
      "Example 3 OUTPUT: <SOS> a man in a man in a <UNK> . <EOS>\n",
      "Example 4 CORRECT: A small boat in the ocean\n",
      "Example 4 OUTPUT: <SOS> a man in a man in a <UNK> . <EOS>\n",
      "Example 5 CORRECT: A cowboy riding a horse in the desert\n",
      "Example 5 OUTPUT: <SOS> a man in a man in a <UNK> . <EOS>\n"
     ]
    },
    {
     "name": "stderr",
     "output_type": "stream",
     "text": [
      "                                                   \r"
     ]
    },
    {
     "name": "stdout",
     "output_type": "stream",
     "text": [
      "27\n",
      "Example 1 CORRECT: Dog on a beach by the ocean\n",
      "Example 1 OUTPUT: <SOS> a man in a man in a <UNK> . <EOS>\n",
      "Example 2 CORRECT: Child holding red frisbee outdoors\n",
      "Example 2 OUTPUT: <SOS> a man in a man in a <UNK> . <EOS>\n",
      "Example 3 CORRECT: Bus driving by parked cars\n",
      "Example 3 OUTPUT: <SOS> a man in a man in a <UNK> . <EOS>\n",
      "Example 4 CORRECT: A small boat in the ocean\n",
      "Example 4 OUTPUT: <SOS> a man in a man in a <UNK> . <EOS>\n",
      "Example 5 CORRECT: A cowboy riding a horse in the desert\n",
      "Example 5 OUTPUT: <SOS> a man in a man in a <UNK> . <EOS>\n"
     ]
    },
    {
     "name": "stderr",
     "output_type": "stream",
     "text": [
      "                                                   \r"
     ]
    },
    {
     "name": "stdout",
     "output_type": "stream",
     "text": [
      "28\n",
      "Example 1 CORRECT: Dog on a beach by the ocean\n",
      "Example 1 OUTPUT: <SOS> a man in a man in a <UNK> . <EOS>\n",
      "Example 2 CORRECT: Child holding red frisbee outdoors\n",
      "Example 2 OUTPUT: <SOS> a man in a man in a <UNK> . <EOS>\n",
      "Example 3 CORRECT: Bus driving by parked cars\n",
      "Example 3 OUTPUT: <SOS> a man in a man in a <UNK> . <EOS>\n",
      "Example 4 CORRECT: A small boat in the ocean\n",
      "Example 4 OUTPUT: <SOS> a man in a man in a <UNK> . <EOS>\n",
      "Example 5 CORRECT: A cowboy riding a horse in the desert\n",
      "Example 5 OUTPUT: <SOS> a man in a man in a <UNK> . <EOS>\n"
     ]
    },
    {
     "name": "stderr",
     "output_type": "stream",
     "text": [
      "                                                   \r"
     ]
    },
    {
     "name": "stdout",
     "output_type": "stream",
     "text": [
      "29\n",
      "Example 1 CORRECT: Dog on a beach by the ocean\n",
      "Example 1 OUTPUT: <SOS> a man in a man in a <UNK> . <EOS>\n",
      "Example 2 CORRECT: Child holding red frisbee outdoors\n",
      "Example 2 OUTPUT: <SOS> a man in a man in a <UNK> . <EOS>\n",
      "Example 3 CORRECT: Bus driving by parked cars\n",
      "Example 3 OUTPUT: <SOS> a man in a man in a <UNK> . <EOS>\n",
      "Example 4 CORRECT: A small boat in the ocean\n",
      "Example 4 OUTPUT: <SOS> a man in a man in a <UNK> . <EOS>\n",
      "Example 5 CORRECT: A cowboy riding a horse in the desert\n",
      "Example 5 OUTPUT: <SOS> a man in a man in a <UNK> . <EOS>\n"
     ]
    },
    {
     "name": "stderr",
     "output_type": "stream",
     "text": [
      "                                                   \r"
     ]
    },
    {
     "name": "stdout",
     "output_type": "stream",
     "text": [
      "30\n",
      "Example 1 CORRECT: Dog on a beach by the ocean\n",
      "Example 1 OUTPUT: <SOS> a man in a man in a <UNK> . <EOS>\n",
      "Example 2 CORRECT: Child holding red frisbee outdoors\n",
      "Example 2 OUTPUT: <SOS> a man in a man in a <UNK> . <EOS>\n",
      "Example 3 CORRECT: Bus driving by parked cars\n",
      "Example 3 OUTPUT: <SOS> a man in a man in a <UNK> . <EOS>\n",
      "Example 4 CORRECT: A small boat in the ocean\n",
      "Example 4 OUTPUT: <SOS> a man in a man in a <UNK> . <EOS>\n",
      "Example 5 CORRECT: A cowboy riding a horse in the desert\n",
      "Example 5 OUTPUT: <SOS> a man in a man in a <UNK> . <EOS>\n"
     ]
    },
    {
     "name": "stderr",
     "output_type": "stream",
     "text": [
      "                                                   \r"
     ]
    },
    {
     "name": "stdout",
     "output_type": "stream",
     "text": [
      "31\n",
      "Example 1 CORRECT: Dog on a beach by the ocean\n",
      "Example 1 OUTPUT: <SOS> a man in a man in a <UNK> . <EOS>\n",
      "Example 2 CORRECT: Child holding red frisbee outdoors\n",
      "Example 2 OUTPUT: <SOS> a man in a man in a <UNK> . <EOS>\n",
      "Example 3 CORRECT: Bus driving by parked cars\n",
      "Example 3 OUTPUT: <SOS> a man in a man in a <UNK> . <EOS>\n",
      "Example 4 CORRECT: A small boat in the ocean\n",
      "Example 4 OUTPUT: <SOS> a man in a man in a <UNK> . <EOS>\n",
      "Example 5 CORRECT: A cowboy riding a horse in the desert\n",
      "Example 5 OUTPUT: <SOS> a man in a man in a <UNK> . <EOS>\n"
     ]
    },
    {
     "name": "stderr",
     "output_type": "stream",
     "text": [
      "                                                   \r"
     ]
    },
    {
     "name": "stdout",
     "output_type": "stream",
     "text": [
      "32\n",
      "Example 1 CORRECT: Dog on a beach by the ocean\n",
      "Example 1 OUTPUT: <SOS> a man in a man in a <UNK> . <EOS>\n",
      "Example 2 CORRECT: Child holding red frisbee outdoors\n",
      "Example 2 OUTPUT: <SOS> a man in a man in a <UNK> . <EOS>\n",
      "Example 3 CORRECT: Bus driving by parked cars\n",
      "Example 3 OUTPUT: <SOS> a man in a man in a <UNK> . <EOS>\n",
      "Example 4 CORRECT: A small boat in the ocean\n",
      "Example 4 OUTPUT: <SOS> a man in a man in a <UNK> . <EOS>\n",
      "Example 5 CORRECT: A cowboy riding a horse in the desert\n",
      "Example 5 OUTPUT: <SOS> a man in a man in a <UNK> . <EOS>\n"
     ]
    },
    {
     "name": "stderr",
     "output_type": "stream",
     "text": [
      "                                                   \r"
     ]
    },
    {
     "name": "stdout",
     "output_type": "stream",
     "text": [
      "33\n",
      "Example 1 CORRECT: Dog on a beach by the ocean\n",
      "Example 1 OUTPUT: <SOS> a man in a man in a <UNK> . <EOS>\n",
      "Example 2 CORRECT: Child holding red frisbee outdoors\n",
      "Example 2 OUTPUT: <SOS> a man in a man in a <UNK> . <EOS>\n",
      "Example 3 CORRECT: Bus driving by parked cars\n",
      "Example 3 OUTPUT: <SOS> a man in a man in a <UNK> . <EOS>\n",
      "Example 4 CORRECT: A small boat in the ocean\n",
      "Example 4 OUTPUT: <SOS> a man in a man in a <UNK> . <EOS>\n",
      "Example 5 CORRECT: A cowboy riding a horse in the desert\n",
      "Example 5 OUTPUT: <SOS> a man in a man in a <UNK> . <EOS>\n"
     ]
    },
    {
     "name": "stderr",
     "output_type": "stream",
     "text": [
      "                                                  \r"
     ]
    },
    {
     "ename": "KeyboardInterrupt",
     "evalue": "",
     "output_type": "error",
     "traceback": [
      "\u001b[0;31m---------------------------------------------------------------------------\u001b[0m",
      "\u001b[0;31mKeyboardInterrupt\u001b[0m                         Traceback (most recent call last)",
      "Cell \u001b[0;32mIn[11], line 45\u001b[0m\n\u001b[1;32m     40\u001b[0m print_examples(model, device, dataset)\n\u001b[1;32m     42\u001b[0m \u001b[38;5;28;01mfor\u001b[39;00m idx, (imgs, captions) \u001b[38;5;129;01min\u001b[39;00m tqdm(\n\u001b[1;32m     43\u001b[0m     \u001b[38;5;28menumerate\u001b[39m(loader), total\u001b[38;5;241m=\u001b[39m\u001b[38;5;28mlen\u001b[39m(loader), leave\u001b[38;5;241m=\u001b[39m\u001b[38;5;28;01mFalse\u001b[39;00m\n\u001b[1;32m     44\u001b[0m ):\n\u001b[0;32m---> 45\u001b[0m     imgs \u001b[38;5;241m=\u001b[39m \u001b[43mimgs\u001b[49m\u001b[38;5;241;43m.\u001b[39;49m\u001b[43mto\u001b[49m\u001b[43m(\u001b[49m\u001b[43mdevice\u001b[49m\u001b[43m)\u001b[49m\n\u001b[1;32m     46\u001b[0m     captions \u001b[38;5;241m=\u001b[39m captions\u001b[38;5;241m.\u001b[39mto(device)\n\u001b[1;32m     47\u001b[0m     outputs \u001b[38;5;241m=\u001b[39m model(imgs, captions[:\u001b[38;5;241m-\u001b[39m\u001b[38;5;241m1\u001b[39m])\n",
      "\u001b[0;31mKeyboardInterrupt\u001b[0m: "
     ]
    }
   ],
   "source": [
    "torch.backends.cudnn.benchmark = True\n",
    "device = torch.device(\"cuda\" if torch.cuda.is_available() else \"cpu\")\n",
    "load_model = False\n",
    "save_model = False\n",
    "train_CNN = False\n",
    "# Hyperparameters\n",
    "embed_size = 256\n",
    "hidden_size = 256\n",
    "vocab_size = len(dataset.vocab)\n",
    "num_layers = 1\n",
    "learning_rate = 3e-4\n",
    "num_epochs = 128\n",
    "step = 0\n",
    "\n",
    "\n",
    "\n",
    "# initialize model, loss etc\n",
    "model = CNNtoRNN(embed_size, hidden_size, vocab_size, num_layers).to(device)\n",
    "criterion = nn.CrossEntropyLoss(ignore_index=dataset.vocab.stoi[\"<PAD>\"])\n",
    "optimizer = optim.Adam(model.parameters(), lr=learning_rate)\n",
    "\n",
    "\n",
    "\n",
    "\n",
    "# Only finetune the CNN\n",
    "for name, param in model.encoderCNN.resnet50.named_parameters():\n",
    "    if \"fc.weight\" in name or \"fc.bias\" in name:\n",
    "        param.requires_grad = True\n",
    "    else:\n",
    "        param.requires_grad = train_CNN\n",
    "\n",
    "\n",
    "\n",
    "model.train()\n",
    "\n",
    "\n",
    "for epoch in range(num_epochs):\n",
    "    print(epoch)\n",
    "    # Uncomment the line below to see a couple of test cases\n",
    "    print_examples(model, device, dataset)\n",
    "    \n",
    "    for idx, (imgs, captions) in tqdm(\n",
    "        enumerate(loader), total=len(loader), leave=False\n",
    "    ):\n",
    "        imgs = imgs.to(device)\n",
    "        captions = captions.to(device)\n",
    "        outputs = model(imgs, captions[:-1])\n",
    "        loss = criterion(\n",
    "            outputs.reshape(-1, outputs.shape[2]), captions.reshape(-1)\n",
    "        )\n",
    "        step += 1\n",
    "        optimizer.zero_grad()\n",
    "        loss.backward(loss)\n",
    "        optimizer.step()"
   ]
  },
  {
   "cell_type": "code",
   "execution_count": null,
   "metadata": {},
   "outputs": [
    {
     "name": "stdout",
     "output_type": "stream",
     "text": [
      "Example 1 CORRECT: Dog on a beach by the ocean\n",
      "Example 1 OUTPUT: <SOS> a dog walking on a beach . <EOS>\n",
      "Example 2 CORRECT: Child holding red frisbee outdoors\n",
      "Example 2 OUTPUT: <SOS> a little girl in a yellow dress and blue pants is in front of a blue and yellow merry - go - round . <EOS>\n",
      "Example 3 CORRECT: Bus driving by parked cars\n",
      "Example 3 OUTPUT: <SOS> a man is walking next to a building with a red car shaped like it is looking away . <EOS>\n",
      "Example 4 CORRECT: A small boat in the ocean\n",
      "Example 4 OUTPUT: <SOS> a boat floats in the water . <EOS>\n",
      "Example 5 CORRECT: A cowboy riding a horse in the desert\n",
      "Example 5 OUTPUT: <SOS> a man and a woman are sitting on a hill overlooking a lake . <EOS>\n"
     ]
    }
   ],
   "source": [
    "print_examples(model,device,dataset)"
   ]
  },
  {
   "cell_type": "code",
   "execution_count": null,
   "metadata": {},
   "outputs": [],
   "source": [
    "torch.save(model.state_dict(), 'model_weights.pth')"
   ]
  },
  {
   "cell_type": "code",
   "execution_count": null,
   "metadata": {},
   "outputs": [],
   "source": []
  }
 ],
 "metadata": {
  "kernelspec": {
   "display_name": ".venv",
   "language": "python",
   "name": "python3"
  },
  "language_info": {
   "codemirror_mode": {
    "name": "ipython",
    "version": 3
   },
   "file_extension": ".py",
   "mimetype": "text/x-python",
   "name": "python",
   "nbconvert_exporter": "python",
   "pygments_lexer": "ipython3",
   "version": "3.12.3"
  }
 },
 "nbformat": 4,
 "nbformat_minor": 2
}
